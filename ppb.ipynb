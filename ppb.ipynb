{
 "cells": [
  {
   "cell_type": "code",
   "execution_count": 1,
   "metadata": {},
   "outputs": [],
   "source": [
    "import cv2\n",
    "import csv\n",
    "import os"
   ]
  },
  {
   "attachments": {},
   "cell_type": "markdown",
   "metadata": {},
   "source": [
    "## Openpose로 이미지의 관절 좌표 csv에 저장"
   ]
  },
  {
   "cell_type": "code",
   "execution_count": 2,
   "metadata": {},
   "outputs": [],
   "source": [
    "def extract_keypoints(frame, proto_file, weights_file, threshold, model_name, BODY_PARTS):\n",
    "    global points\n",
    "\n",
    "    net = cv2.dnn.readNetFromCaffe(proto_file, weights_file)\n",
    "\n",
    "    image_height = 1056\n",
    "    image_width = 720\n",
    "\n",
    "    input_blob = cv2.dnn.blobFromImage(frame, 1.0 / 255, (image_width, image_height), (0, 0, 0), swapRB=False, crop=False)\n",
    "\n",
    "    net.setInput(input_blob)\n",
    "\n",
    "    out = net.forward()\n",
    "    out_height = out.shape[2]\n",
    "    out_width = out.shape[3]\n",
    "\n",
    "    frame_height, frame_width = frame.shape[:2]\n",
    "\n",
    "    points = []\n",
    "\n",
    "    for i in range(len(BODY_PARTS)):\n",
    "        prob_map = out[0, i, :, :]\n",
    "        min_val, prob, min_loc, point = cv2.minMaxLoc(prob_map)\n",
    "\n",
    "        x = (frame_width * point[0]) / out_width\n",
    "        x = int(x)\n",
    "        y = (frame_height * point[1]) / out_height\n",
    "        y = int(y)\n",
    "\n",
    "        points.append((x, y))\n",
    "\n",
    "    return points"
   ]
  },
  {
   "cell_type": "code",
   "execution_count": 3,
   "metadata": {},
   "outputs": [],
   "source": [
    "def save_keypoints_to_csv(file_name, keypoints):\n",
    "    with open(file_name, 'w', newline='') as csvfile:\n",
    "        writer = csv.writer(csvfile)\n",
    "        header = []\n",
    "        for part_index in range(len(BODY_PARTS_MPI)):\n",
    "            header.extend([f\"{BODY_PARTS_MPI[part_index]}_X\", f\"{BODY_PARTS_MPI[part_index]}_Y\"])\n",
    "        writer.writerow(header)\n",
    "        \n",
    "        for keypoints_frame in keypoints:\n",
    "            row = []\n",
    "            for part_index in range(len(BODY_PARTS_MPI)):\n",
    "                if len(keypoints_frame) > part_index:\n",
    "                    row.extend([keypoints_frame[part_index][0], keypoints_frame[part_index][1]])\n",
    "                else:\n",
    "                    row.extend([None, None])\n",
    "            writer.writerow(row)\n"
   ]
  },
  {
   "cell_type": "code",
   "execution_count": 4,
   "metadata": {},
   "outputs": [],
   "source": [
    "protoFile_mpi = \"openpose-master/models/pose/mpi/pose_deploy_linevec.prototxt\"\n",
    "weightsFile_mpi = \"openpose-master/models/pose/mpi/pose_iter_160000.caffemodel\""
   ]
  },
  {
   "cell_type": "code",
   "execution_count": 5,
   "metadata": {},
   "outputs": [],
   "source": [
    "BODY_PARTS_MPI = {\n",
    "    0: \"Head\",\n",
    "    1: \"Neck\",\n",
    "    2: \"RShoulder\",\n",
    "    3: \"RElbow\",\n",
    "    4: \"RWrist\",\n",
    "    5: \"LShoulder\",\n",
    "    6: \"LElbow\",\n",
    "    7: \"LWrist\",\n",
    "    8: \"RHip\",\n",
    "    9: \"RKnee\",\n",
    "    10: \"RAnkle\",\n",
    "    11: \"LHip\",\n",
    "    12: \"LKnee\",\n",
    "    13: \"LAnkle\",\n",
    "    14: \"Chest\",\n",
    "    15: \"Background\"\n",
    "}"
   ]
  },
  {
   "cell_type": "code",
   "execution_count": 6,
   "metadata": {},
   "outputs": [],
   "source": [
    "threshold = 0.2"
   ]
  },
  {
   "cell_type": "code",
   "execution_count": 7,
   "metadata": {},
   "outputs": [],
   "source": [
    "all_keypoints = []"
   ]
  },
  {
   "cell_type": "code",
   "execution_count": 8,
   "metadata": {},
   "outputs": [],
   "source": [
    "image_directory = \"shoulder\"\n",
    "\n",
    "start_index = 1\n",
    "end_index = 1400"
   ]
  },
  {
   "cell_type": "code",
   "execution_count": null,
   "metadata": {},
   "outputs": [],
   "source": [
    "for image_index in range(start_index, end_index+1):\n",
    "    image_filename = f\"frame{image_index:05d}.jpg\"  \n",
    "    image_path = os.path.join(image_directory, image_filename)\n",
    "\n",
    "    frame = cv2.imread(image_path)\n",
    "\n",
    "    keypoints = extract_keypoints(frame, protoFile_mpi, weightsFile_mpi, threshold, \"MPI\", BODY_PARTS_MPI)\n",
    "    all_keypoints.append(keypoints)\n",
    "\n",
    "    print(f\"Processed image {image_index}/{end_index}\")\n",
    "\n",
    "save_keypoints_to_csv(\"keypoints.csv\", all_keypoints)"
   ]
  },
  {
   "attachments": {},
   "cell_type": "markdown",
   "metadata": {},
   "source": [
    "## 관절 좌표값을 활용하여 어깨 비대칭 진단 모델 만들기"
   ]
  },
  {
   "cell_type": "code",
   "execution_count": 1,
   "metadata": {},
   "outputs": [],
   "source": [
    "import pandas as pd\n",
    "import numpy as np\n",
    "from sklearn.linear_model import LogisticRegression\n",
    "from sklearn.model_selection import train_test_split\n",
    "from sklearn.preprocessing import StandardScaler\n",
    "from sklearn.metrics import accuracy_score, precision_score, recall_score, f1_score\n",
    "import matplotlib.pyplot as plt"
   ]
  },
  {
   "cell_type": "code",
   "execution_count": 3,
   "metadata": {},
   "outputs": [],
   "source": [
    "data = pd.read_csv(\"data/keypoints.csv\")\n",
    "selected_columns = [\"Head_X\", \"Head_Y\", \"Neck_X\", \"Neck_Y\", \"RShoulder_X\", \"RShoulder_Y\", \"LShoulder_X\", \"LShoulder_Y\"]\n",
    "data = data[selected_columns]"
   ]
  },
  {
   "cell_type": "code",
   "execution_count": 4,
   "metadata": {},
   "outputs": [],
   "source": [
    "data[\"Shoulder_Asymmetry\"] = abs(data[\"RShoulder_X\"] - data[\"LShoulder_X\"])\n"
   ]
  },
  {
   "cell_type": "code",
   "execution_count": 5,
   "metadata": {},
   "outputs": [],
   "source": [
    "shoulder_vector = data[[\"RShoulder_X\", \"RShoulder_Y\"]].values - data[[\"LShoulder_X\", \"LShoulder_Y\"]].values\n",
    "shoulder_angle = np.arctan2(shoulder_vector[:, 1], shoulder_vector[:, 0]) * 180 / np.pi\n",
    "data[\"Shoulder_Angle\"] = abs(shoulder_angle)"
   ]
  },
  {
   "cell_type": "code",
   "execution_count": 6,
   "metadata": {},
   "outputs": [],
   "source": [
    "threshold = 100"
   ]
  },
  {
   "cell_type": "code",
   "execution_count": 7,
   "metadata": {},
   "outputs": [],
   "source": [
    "data[\"Label\"] = 0  \n",
    "data.loc[data[\"Shoulder_Asymmetry\"] > threshold, \"Label\"] = 1 "
   ]
  },
  {
   "cell_type": "code",
   "execution_count": 8,
   "metadata": {},
   "outputs": [
    {
     "data": {
      "text/plain": [
       "((1049, 11), (231, 11), (227, 11))"
      ]
     },
     "execution_count": 8,
     "metadata": {},
     "output_type": "execute_result"
    }
   ],
   "source": [
    "train, test = train_test_split(data, test_size=0.15, random_state=1)\n",
    "train, val = train_test_split(train, test_size = 0.18, random_state=1)\n",
    "\n",
    "train.shape, val.shape, test.shape"
   ]
  },
  {
   "cell_type": "code",
   "execution_count": 9,
   "metadata": {},
   "outputs": [
    {
     "name": "stdout",
     "output_type": "stream",
     "text": [
      "최빈 클래스:  0\n",
      "validation 데이터셋 정확도:  0.5194805194805194\n"
     ]
    }
   ],
   "source": [
    "majority_class = train[\"Label\"].mode()[0]\n",
    "\n",
    "y_pred = [majority_class] * len(val)\n",
    "\n",
    "print(\"최빈 클래스: \", majority_class)\n",
    "print(\"validation 데이터셋 정확도: \", accuracy_score(val[\"Label\"], y_pred))"
   ]
  },
  {
   "cell_type": "code",
   "execution_count": 10,
   "metadata": {},
   "outputs": [
    {
     "name": "stdout",
     "output_type": "stream",
     "text": [
      "feature Matrix:  (1049, 9) (231, 9) (227, 9)\n",
      "target vector:  (1049,) (231,) (227,)\n"
     ]
    }
   ],
   "source": [
    "feature = [\"Head_X\", \"Head_Y\", \"Neck_X\", \"Neck_Y\", \"RShoulder_X\", \"RShoulder_Y\", \"LShoulder_X\", \"LShoulder_Y\", \"Shoulder_Angle\"]\n",
    "target = \"Label\"\n",
    "\n",
    "X_train = train[feature]\n",
    "y_train = train[target]\n",
    "\n",
    "X_val = val[feature]\n",
    "y_val = val[target]\n",
    "\n",
    "X_test = test[feature]\n",
    "y_test = test[target]\n",
    "\n",
    "print(\"feature Matrix: \", X_train.shape, X_val.shape, X_test.shape)\n",
    "print(\"target vector: \", y_train.shape, y_val.shape, y_test.shape)"
   ]
  },
  {
   "cell_type": "code",
   "execution_count": 11,
   "metadata": {},
   "outputs": [
    {
     "data": {
      "text/plain": [
       "(4.741467254833843e-17, 1.0)"
      ]
     },
     "execution_count": 11,
     "metadata": {},
     "output_type": "execute_result"
    }
   ],
   "source": [
    "scaler = StandardScaler()\n",
    "\n",
    "X_train_sclaed = scaler.fit_transform(X_train)\n",
    "X_val_scaled = scaler.transform(X_val)\n",
    "X_test_scaled = scaler.transform(X_test)\n",
    "\n",
    "X_train_sclaed.T[0].mean(), X_train_sclaed.std()"
   ]
  },
  {
   "cell_type": "code",
   "execution_count": 12,
   "metadata": {},
   "outputs": [
    {
     "name": "stdout",
     "output_type": "stream",
     "text": [
      "validation 데이터셋 정확도\n"
     ]
    },
    {
     "data": {
      "text/plain": [
       "0.7316017316017316"
      ]
     },
     "execution_count": 12,
     "metadata": {},
     "output_type": "execute_result"
    }
   ],
   "source": [
    "logistic = LogisticRegression()\n",
    "logistic.fit(X_train_sclaed, y_train)\n",
    "\n",
    "print(\"validation 데이터셋 정확도\")\n",
    "logistic.score(X_val_scaled, y_val)"
   ]
  },
  {
   "cell_type": "code",
   "execution_count": 13,
   "metadata": {},
   "outputs": [
    {
     "name": "stdout",
     "output_type": "stream",
     "text": [
      "test 데이터셋 정확도\n"
     ]
    },
    {
     "data": {
      "text/plain": [
       "0.7709251101321586"
      ]
     },
     "execution_count": 13,
     "metadata": {},
     "output_type": "execute_result"
    }
   ],
   "source": [
    "X_total = pd.concat([X_train, X_test])\n",
    "y_total = pd.concat([y_train, y_test])\n",
    "\n",
    "feature = [\"Head_X\", \"Head_Y\", \"Neck_X\", \"Neck_Y\", \"RShoulder_X\", \"RShoulder_Y\", \"LShoulder_X\", \"LShoulder_Y\", \"Shoulder_Angle\"]\n",
    "target = \"Label\"\n",
    "\n",
    "scaler = StandardScaler()\n",
    "\n",
    "X_total_sclaed = scaler.fit_transform(X_total)\n",
    "X_test_scaled = scaler.transform(X_test)\n",
    "\n",
    "model = LogisticRegression()\n",
    "model.fit(X_total_sclaed, y_total)\n",
    "\n",
    "print(\"test 데이터셋 정확도\")\n",
    "model.score(X_test_scaled, y_test)"
   ]
  },
  {
   "cell_type": "code",
   "execution_count": 14,
   "metadata": {},
   "outputs": [
    {
     "data": {
      "text/plain": [
       "RShoulder_X       1.384290\n",
       "Shoulder_Angle    1.203212\n",
       "LShoulder_Y       0.802520\n",
       "Neck_X            0.279120\n",
       "Head_Y            0.055324\n",
       "Head_X           -0.074027\n",
       "RShoulder_Y      -0.373707\n",
       "Neck_Y           -0.396653\n",
       "LShoulder_X      -1.914064\n",
       "dtype: float64"
      ]
     },
     "execution_count": 14,
     "metadata": {},
     "output_type": "execute_result"
    }
   ],
   "source": [
    "model_coef = pd.Series(model.coef_[0], feature).sort_values(ascending=False)\n",
    "model_coef"
   ]
  },
  {
   "cell_type": "code",
   "execution_count": 15,
   "metadata": {},
   "outputs": [
    {
     "data": {
      "image/png": "[encoded data removed]",
      "text/plain": [
       "<Figure size 576x432 with 1 Axes>"
      ]
     },
     "metadata": {
      "needs_background": "light"
     },
     "output_type": "display_data"
    }
   ],
   "source": [
    "plt.figure(figsize=(8, 6))\n",
    "colors = ['green' if coef > 0 else 'red' for coef in model_coef.values]\n",
    "plt.barh(model_coef.index, model_coef.values, color=colors)\n",
    "\n",
    "plt.title(\"Regression Coefficients\")\n",
    "plt.xlabel(\"Coefficient Value\")\n",
    "plt.ylabel(\"Feature\")\n",
    "\n",
    "plt.show()"
   ]
  },
  {
   "cell_type": "code",
   "execution_count": 16,
   "metadata": {},
   "outputs": [
    {
     "name": "stdout",
     "output_type": "stream",
     "text": [
      "Validation 데이터셋의 F1 스코어: 0.7009345794392524\n"
     ]
    }
   ],
   "source": [
    "y_val_pred = model.predict(X_val_scaled)\n",
    "\n",
    "f1 = f1_score(y_val, y_val_pred)\n",
    "\n",
    "print(\"Validation 데이터셋의 F1 스코어:\", f1)\n"
   ]
  },
  {
   "cell_type": "code",
   "execution_count": 17,
   "metadata": {},
   "outputs": [
    {
     "name": "stdout",
     "output_type": "stream",
     "text": [
      "Test 데이터셋의 F1 스코어: 0.7263157894736842\n"
     ]
    }
   ],
   "source": [
    "y_test_pred = model.predict(X_test_scaled)\n",
    "\n",
    "f1_test = f1_score(y_test, y_test_pred)\n",
    "\n",
    "print(\"Test 데이터셋의 F1 스코어:\", f1_test)"
   ]
  },
  {
   "cell_type": "code",
   "execution_count": 18,
   "metadata": {},
   "outputs": [
    {
     "name": "stdout",
     "output_type": "stream",
     "text": [
      "validation 데이터셋의 F1 스코어: 0.7009345794392524\n",
      "test 데이터셋의 F1 스코어: 0.7263157894736842\n",
      "validation 데이터셋 정확도: 0.7316017316017316\n",
      "test 데이터셋 정확도: 0.7709251101321586\n"
     ]
    }
   ],
   "source": [
    "print(\"validation 데이터셋의 F1 스코어:\", f1)\n",
    "print(\"test 데이터셋의 F1 스코어:\", f1_test)\n",
    "print(\"validation 데이터셋 정확도:\", logistic.score(X_val_scaled, y_val))\n",
    "print(\"test 데이터셋 정확도:\", model.score(X_test_scaled, y_test))\n"
   ]
  },
  {
   "cell_type": "code",
   "execution_count": 20,
   "metadata": {},
   "outputs": [
    {
     "name": "stderr",
     "output_type": "stream",
     "text": [
      "c:\\Users\\LegendKi\\anaconda3\\lib\\site-packages\\sklearn\\linear_model\\_logistic.py:814: ConvergenceWarning: lbfgs failed to converge (status=1):\n",
      "STOP: TOTAL NO. of ITERATIONS REACHED LIMIT.\n",
      "\n",
      "Increase the number of iterations (max_iter) or scale the data as shown in:\n",
      "    https://scikit-learn.org/stable/modules/preprocessing.html\n",
      "Please also refer to the documentation for alternative solver options:\n",
      "    https://scikit-learn.org/stable/modules/linear_model.html#logistic-regression\n",
      "  n_iter_i = _check_optimize_result(\n"
     ]
    },
    {
     "data": {
      "text/plain": [
       "['trained_model.pkl']"
      ]
     },
     "execution_count": 20,
     "metadata": {},
     "output_type": "execute_result"
    }
   ],
   "source": [
    "import joblib\n",
    "\n",
    "# 모델 학습\n",
    "model.fit(X_train, y_train)\n",
    "\n",
    "# 학습된 모델을 파일로 저장\n",
    "joblib.dump(model, 'trained_model.pkl')"
   ]
  },
  {
   "cell_type": "code",
   "execution_count": null,
   "metadata": {},
   "outputs": [],
   "source": []
  }
 ],
 "metadata": {
  "kernelspec": {
   "display_name": "base",
   "language": "python",
   "name": "python3"
  },
  "language_info": {
   "codemirror_mode": {
    "name": "ipython",
    "version": 3
   },
   "file_extension": ".py",
   "mimetype": "text/x-python",
   "name": "python",
   "nbconvert_exporter": "python",
   "pygments_lexer": "ipython3",
   "version": "3.9.12"
  },
  "orig_nbformat": 4
 },
 "nbformat": 4,
 "nbformat_minor": 2
}
